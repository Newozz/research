{
 "metadata": {
  "name": ""
 },
 "nbformat": 3,
 "nbformat_minor": 0,
 "worksheets": [
  {
   "cells": [
    {
     "cell_type": "heading",
     "level": 1,
     "metadata": {},
     "source": [
      "Reading data"
     ]
    },
    {
     "cell_type": "code",
     "collapsed": false,
     "input": [
      "import numpy as np\n",
      "import pylab as pl\n",
      "import pandas as pd\n",
      "\n",
      "train_df = pd.read_csv('train.csv')\n",
      "test_df = pd.read_csv('test.csv')"
     ],
     "language": "python",
     "metadata": {},
     "outputs": [],
     "prompt_number": 1
    },
    {
     "cell_type": "code",
     "collapsed": false,
     "input": [
      "data_train_x = train_df.values[:, 1:]\n",
      "data_train_y = train_df.values[:, 0]\n",
      "data_test_x = test_df.values[:, 1:]\n",
      "print data_train_x.shape\n",
      "print data_train_y.shape\n",
      "print data_test_x.shape"
     ],
     "language": "python",
     "metadata": {},
     "outputs": [
      {
       "output_type": "stream",
       "stream": "stdout",
       "text": [
        "(32769, 9)\n",
        "(32769,)\n",
        "(58921, 9)\n"
       ]
      }
     ],
     "prompt_number": 2
    },
    {
     "cell_type": "heading",
     "level": 1,
     "metadata": {},
     "source": [
      "Reproducing baseline"
     ]
    },
    {
     "cell_type": "code",
     "collapsed": false,
     "input": [
      "from sklearn import cross_validation\n",
      "from sklearn import metrics\n",
      "\n",
      "def score_model(X, y, model, n=10, verbose=False):\n",
      "    aucs = []\n",
      "    mean_auc = 0.\n",
      "    for i in range(n):\n",
      "        X_train, X_cv, y_train, y_cv = cross_validation.train_test_split(X, y, test_size=0.1)\n",
      "        model.fit(X_train, y_train)\n",
      "        preds = model.predict_proba(X_cv)[:,1]\n",
      "        fpr, tpr, _ = metrics.roc_curve(y_cv, preds)\n",
      "        auc = metrics.auc(fpr, tpr)\n",
      "        if verbose:\n",
      "            print \"AUC (iter %d/%d): %f\" % (i + 1, n, auc)\n",
      "        aucs.append(auc)\n",
      "        #mean_auc += auc\n",
      "    return aucs"
     ],
     "language": "python",
     "metadata": {},
     "outputs": [],
     "prompt_number": 204
    },
    {
     "cell_type": "code",
     "collapsed": false,
     "input": [
      "from sklearn.neighbors import KNeighborsClassifier\n",
      "n_iter = 30\n",
      "baseline_scores = score_model(data_train_x, data_train_y, KNeighborsClassifier(n_neighbors=1), verbose=True, n=n_iter)"
     ],
     "language": "python",
     "metadata": {},
     "outputs": [
      {
       "output_type": "stream",
       "stream": "stdout",
       "text": [
        "AUC (iter 1/30): 0.639113\n",
        "AUC (iter 2/30): 0.613799"
       ]
      },
      {
       "output_type": "stream",
       "stream": "stdout",
       "text": [
        "\n",
        "AUC (iter 3/30): 0.624636"
       ]
      },
      {
       "output_type": "stream",
       "stream": "stdout",
       "text": [
        "\n",
        "AUC (iter 4/30): 0.624109"
       ]
      },
      {
       "output_type": "stream",
       "stream": "stdout",
       "text": [
        "\n",
        "AUC (iter 5/30): 0.597003"
       ]
      },
      {
       "output_type": "stream",
       "stream": "stdout",
       "text": [
        "\n",
        "AUC (iter 6/30): 0.635470"
       ]
      },
      {
       "output_type": "stream",
       "stream": "stdout",
       "text": [
        "\n",
        "AUC (iter 7/30): 0.634190"
       ]
      },
      {
       "output_type": "stream",
       "stream": "stdout",
       "text": [
        "\n",
        "AUC (iter 8/30): 0.623375"
       ]
      },
      {
       "output_type": "stream",
       "stream": "stdout",
       "text": [
        "\n",
        "AUC (iter 9/30): 0.620517"
       ]
      },
      {
       "output_type": "stream",
       "stream": "stdout",
       "text": [
        "\n",
        "AUC (iter 10/30): 0.624149"
       ]
      },
      {
       "output_type": "stream",
       "stream": "stdout",
       "text": [
        "\n",
        "AUC (iter 11/30): 0.612243"
       ]
      },
      {
       "output_type": "stream",
       "stream": "stdout",
       "text": [
        "\n",
        "AUC (iter 12/30): 0.612387"
       ]
      },
      {
       "output_type": "stream",
       "stream": "stdout",
       "text": [
        "\n",
        "AUC (iter 13/30): 0.628962"
       ]
      },
      {
       "output_type": "stream",
       "stream": "stdout",
       "text": [
        "\n",
        "AUC (iter 14/30): 0.630626"
       ]
      },
      {
       "output_type": "stream",
       "stream": "stdout",
       "text": [
        "\n",
        "AUC (iter 15/30): 0.632401"
       ]
      },
      {
       "output_type": "stream",
       "stream": "stdout",
       "text": [
        "\n",
        "AUC (iter 16/30): 0.639851"
       ]
      },
      {
       "output_type": "stream",
       "stream": "stdout",
       "text": [
        "\n",
        "AUC (iter 17/30): 0.650858"
       ]
      },
      {
       "output_type": "stream",
       "stream": "stdout",
       "text": [
        "\n",
        "AUC (iter 18/30): 0.639450"
       ]
      },
      {
       "output_type": "stream",
       "stream": "stdout",
       "text": [
        "\n",
        "AUC (iter 19/30): 0.608093"
       ]
      },
      {
       "output_type": "stream",
       "stream": "stdout",
       "text": [
        "\n",
        "AUC (iter 20/30): 0.674948"
       ]
      },
      {
       "output_type": "stream",
       "stream": "stdout",
       "text": [
        "\n",
        "AUC (iter 21/30): 0.662022"
       ]
      },
      {
       "output_type": "stream",
       "stream": "stdout",
       "text": [
        "\n",
        "AUC (iter 22/30): 0.654816"
       ]
      },
      {
       "output_type": "stream",
       "stream": "stdout",
       "text": [
        "\n",
        "AUC (iter 23/30): 0.644756"
       ]
      },
      {
       "output_type": "stream",
       "stream": "stdout",
       "text": [
        "\n",
        "AUC (iter 24/30): 0.643632"
       ]
      },
      {
       "output_type": "stream",
       "stream": "stdout",
       "text": [
        "\n",
        "AUC (iter 25/30): 0.648804"
       ]
      },
      {
       "output_type": "stream",
       "stream": "stdout",
       "text": [
        "\n",
        "AUC (iter 26/30): 0.593984"
       ]
      },
      {
       "output_type": "stream",
       "stream": "stdout",
       "text": [
        "\n",
        "AUC (iter 27/30): 0.643920"
       ]
      },
      {
       "output_type": "stream",
       "stream": "stdout",
       "text": [
        "\n",
        "AUC (iter 28/30): 0.628226"
       ]
      },
      {
       "output_type": "stream",
       "stream": "stdout",
       "text": [
        "\n",
        "AUC (iter 29/30): 0.638341"
       ]
      },
      {
       "output_type": "stream",
       "stream": "stdout",
       "text": [
        "\n",
        "AUC (iter 30/30): 0.626761"
       ]
      },
      {
       "output_type": "stream",
       "stream": "stdout",
       "text": [
        "\n"
       ]
      }
     ],
     "prompt_number": 205
    },
    {
     "cell_type": "code",
     "collapsed": false,
     "input": [
      "def plot_scores(scores):\n",
      "    n_iter = len(scores)\n",
      "    pl.plot(scores, label='Scores')\n",
      "    pl.plot(np.mean(scores) * np.ones(n_iter), label='Mean score', c='b')\n",
      "    \n",
      "    bias = 3 * np.sqrt(np.var(scores))\n",
      "    print 'Mean', np.mean(scores)\n",
      "    print 'Bias', bias\n",
      "\n",
      "    pl.fill_between(np.arange(n_iter),\n",
      "                    (np.mean(scores) + bias) * np.ones(n_iter),\n",
      "                    (np.mean(scores) - bias) * np.ones(n_iter),\n",
      "                    alpha=0.1,\n",
      "                    facecolor='blue'\n",
      "                    )\n",
      "    pl.legend()\n",
      "    pl.ylabel('Quality')\n",
      "    pl.xlabel('Iterations')\n",
      "    return np.mean(scores), bias"
     ],
     "language": "python",
     "metadata": {},
     "outputs": [],
     "prompt_number": 364
    },
    {
     "cell_type": "code",
     "collapsed": false,
     "input": [
      "baseline_mean, baseline_bias = plot_scores(baseline_scores)"
     ],
     "language": "python",
     "metadata": {},
     "outputs": [
      {
       "output_type": "stream",
       "stream": "stdout",
       "text": [
        "Mean 0.631714608297\n",
        "Bias 0.0529680921994\n"
       ]
      },
      {
       "metadata": {},
       "output_type": "display_data",
       "png": "[encoded data removed]",
       "text": [
        "<matplotlib.figure.Figure at 0x108711050>"
       ]
      }
     ],
     "prompt_number": 365
    },
    {
     "cell_type": "code",
     "collapsed": false,
     "input": [
      "pl.figure(figsize=(14, 5))\n",
      "width = 0.80\n",
      "plot_data = [\n",
      "        [baseline_mean, baseline_bias, '1nn\\nbaseline'],\n",
      "        [0.870483, 0.034769, 'Sparse L2-logistic\\nregression'],\n",
      "        [0.884349, 0.022495, 'Sparse L2-logistic\\nregression with\\ngrouped data'],\n",
      "        [0.873322, 0.037551, 'Sparse L1-logistic\\nregression with\\ngrouped data'],\n",
      "        [0.865344, 0.056065, 'Random Forest\\nwith reordered data'],\n",
      "        [0.853247, 0.057358, 'Nearest neighboor\\nwith reordered data'], \n",
      "        ]\n",
      "len_plot = len(plot_data)\n",
      "plot_data = zip(*plot_data)\n",
      "pl.bar(np.arange(len_plot), plot_data[0], width, color='b', yerr=plot_data[1], alpha=0.3)\n",
      "pl.axes().set_xticklabels(plot_data[2])\n",
      "pl.axes().set_xticks(np.arange(len_plot) + width/2)\n",
      "pl.ylabel('Quality')\n",
      "pl.ylim([0.5, 1])\n",
      "pl.savefig('quality.pdf')"
     ],
     "language": "python",
     "metadata": {},
     "outputs": [
      {
       "metadata": {},
       "output_type": "display_data",
       "png": "[encoded data removed]",
       "text": [
        "<matplotlib.figure.Figure at 0x10948d950>"
       ]
      }
     ],
     "prompt_number": 361
    },
    {
     "cell_type": "heading",
     "level": 1,
     "metadata": {},
     "source": [
      "Visualizing dataset"
     ]
    },
    {
     "cell_type": "markdown",
     "metadata": {},
     "source": [
      "\u041f\u043e\u0441\u043c\u043e\u0442\u0440\u0438\u043c \u043d\u0430 \u0440\u0430\u0441\u043f\u0440\u0435\u0434\u043b\u0435\u043d\u0438\u044f \u0437\u043d\u0430\u0447\u0435\u043d\u0438\u0439 \u0432 \u043e\u0431\u0443\u0447\u0435\u043d\u0438\u0438 \u0438 \u0442\u0435\u0441\u0442\u0435."
     ]
    },
    {
     "cell_type": "code",
     "collapsed": false,
     "input": [
      "pl.figure(figsize=(16, 30))\n",
      "bins=100\n",
      "for i in range(9):\n",
      "    pl.subplot2grid((9, 2), (i / 2, i % 2))\n",
      "    pl.hist(data_train_x[:, i], bins=bins, alpha=0.3, color='b')\n",
      "    pl.hist(data_test_x[:, i], bins=bins, alpha=0.3, color='r')\n",
      "    pl.ylabel('number of values')\n",
      "    pl.xlabel('value of feature ' + str(i))\n",
      "    pl.legend(['train', 'test'])\n",
      "pl.savefig('unique_vals_1.pdf')"
     ],
     "language": "python",
     "metadata": {},
     "outputs": [
      {
       "metadata": {},
       "output_type": "display_data",
       "png": "[encoded data removed]",
       "text": [
        "<matplotlib.figure.Figure at 0x10a17eb90>"
       ]
      }
     ],
     "prompt_number": 355
    },
    {
     "cell_type": "markdown",
     "metadata": {},
     "source": [
      "\u0412\u0438\u0434\u043d\u043e, \u0447\u0442\u043e \u043e\u0447\u0435\u043d\u044c \u0432\u0430\u0436\u043d\u043e \u043f\u0440\u0430\u0432\u0438\u043b\u044c\u043d\u043e \u0443\u0447\u0438\u0442\u044b\u0432\u0430\u0442\u044c \u043d\u043e\u0432\u044b\u0435 \u0437\u043d\u0430\u0447\u0435\u043d\u0438\u044f \u043f\u0440\u0438\u0437\u043d\u0430\u043a\u043e\u0432, \u043a\u043e\u0442\u043e\u0440\u044b\u0445 \u043d\u0435 \u0431\u044b\u043b\u043e \u0432 \u043e\u0431\u0443\u0447\u0435\u043d\u0438\u0438. \u041c\u043e\u0436\u043d\u043e \u043a\u0430\u043a-\u043d\u0438\u0431\u0443\u0434\u044c \u0445\u0438\u0442\u0440\u043e \u0434\u043e\u0431\u0430\u0432\u043b\u044f\u0442\u044c \u0434\u043e\u043f\u043e\u043b\u043d\u0438\u0442\u0435\u043b\u044c\u043d\u044b\u0439 \u043f\u0440\u0438\u0437\u043d\u0430\u043a, \u043f\u043e\u043a\u0430\u0437\u044b\u0432\u0430\u044e\u0449\u0438\u0439, \u0447\u0442\u043e \u0437\u043d\u0430\u0447\u0435\u043d\u0438\u044f \u043d\u0435 \u0431\u044b\u043b\u043e \u0432 \u043e\u0431\u0443\u0447\u0435\u043d\u0438\u0438. \u041d\u0430\u0434\u043e \u044d\u043a\u0441\u043f\u0435\u0440\u0438\u043c\u0435\u043d\u0442\u0438\u0440\u043e\u0432\u0430\u0442\u044c... \u041a\u0441\u0442\u0430\u0442\u0438, \u0435\u0449\u0435 \u043c\u043e\u0436\u043d\u043e \u043f\u0440\u043e\u0432\u043e\u0434\u0438\u0442\u044c \u0444\u0438\u0448\u043a\u0443, \u0432 \u043d\u0435\u043a\u043e\u0442\u043e\u0440\u043e\u043c \u0441\u043c\u044b\u0441\u043b\u0435 \u0430\u043d\u0430\u043b\u043e\u0433\u0438\u0447\u043d\u0443\u044e \u043d\u0430\u0438\u0432\u043d\u043e\u043c\u0443 \u0431\u0430\u0439\u0435\u0441\u0443, \u043e\u0434\u043d\u0430\u043a\u043e \u0441 \u0434\u0440\u0443\u0433\u0438\u043c\u0438 \u043f\u0440\u0438\u0437\u043d\u0430\u043a\u0430\u043c\u0438, \u043a\u0430\u043a \u0446\u0435\u043b\u0435\u0432\u044b\u043c\u0438 \u043c\u0435\u0442\u043a\u0430\u043c\u0438. \u0422\u043e\u0433\u0434\u0430 \u043c\u043e\u0436\u043d\u043e \u0431\u0443\u0434\u0435\u0442 \u043a\u0430\u043a-\u043d\u0438\u0431\u0443\u0434\u044c \u043f\u0440\u0430\u0432\u0438\u043b\u044c\u043d\u043e \u0443\u0447\u0438\u0442\u044b\u0432\u0430\u0442\u044c \u043d\u043e\u0432\u044b\u0435 \u0437\u043d\u0430\u0447\u0435\u043d\u0438\u044f \u043f\u0440\u0438\u0437\u043d\u0430\u043a\u043e\u0432 \u0437\u0430\u0441\u0447\u0435\u0442 \u0443\u0436\u0435 \u0438\u0437\u0432\u0435\u0441\u0442\u043d\u044b\u0445 \u0437\u043d\u0430\u0447\u0435\u043d\u0438\u0439 \u0434\u0440\u0443\u0433\u0438\u0445 \u043f\u0440\u0438\u0437\u043d\u0430\u043a\u043e\u0432.\n",
      "\n",
      "\u041f\u043e\u0441\u043c\u043e\u0442\u0440\u0438\u043c \u043d\u0430 \u044d\u0442\u043e \u043f\u043e-\u0432\u043d\u0438\u043c\u0430\u0442\u0435\u043b\u044c\u043d\u0435\u0435."
     ]
    },
    {
     "cell_type": "code",
     "collapsed": false,
     "input": [
      "plot_data = [[], [], [], []]\n",
      "for i in range(9):\n",
      "    print i,\n",
      "    plot_data[0].append(len(set(data_train_x[:, i])))\n",
      "    plot_data[1].append(len(set(data_test_x[:, i])))\n",
      "    plot_data[2].append(len(set(data_train_x[:, i]) - set(data_test_x[:, i])))\n",
      "    plot_data[3].append(len(set(data_test_x[:, i]) - set(data_train_x[:, i])))"
     ],
     "language": "python",
     "metadata": {},
     "outputs": [
      {
       "output_type": "stream",
       "stream": "stdout",
       "text": [
        "0 "
       ]
      },
      {
       "output_type": "stream",
       "stream": "stdout",
       "text": [
        "1 "
       ]
      },
      {
       "output_type": "stream",
       "stream": "stdout",
       "text": [
        "2 "
       ]
      },
      {
       "output_type": "stream",
       "stream": "stdout",
       "text": [
        "3 "
       ]
      },
      {
       "output_type": "stream",
       "stream": "stdout",
       "text": [
        "4 "
       ]
      },
      {
       "output_type": "stream",
       "stream": "stdout",
       "text": [
        "5 "
       ]
      },
      {
       "output_type": "stream",
       "stream": "stdout",
       "text": [
        "6 "
       ]
      },
      {
       "output_type": "stream",
       "stream": "stdout",
       "text": [
        "7 "
       ]
      },
      {
       "output_type": "stream",
       "stream": "stdout",
       "text": [
        "8\n"
       ]
      }
     ],
     "prompt_number": 167
    },
    {
     "cell_type": "code",
     "collapsed": false,
     "input": [
      "pl.figure(figsize=(8, 3))\n",
      "width = 0.13\n",
      "pl.bar(np.arange(9), plot_data[0], width, color='b')\n",
      "pl.bar(np.arange(9) + width, plot_data[1], width, color='r')\n",
      "pl.bar(np.arange(9) + width * 2, plot_data[2], width, color='c')\n",
      "pl.bar(np.arange(9) + width * 3, plot_data[3], width, color='g')\n",
      "pl.legend(\n",
      "          ['Values in train',\n",
      "           'Values in test',\n",
      "           'Values only in train',\n",
      "           'Values only in test'])\n",
      "\n",
      "pl.axes().set_xticklabels(range(9))\n",
      "pl.axes().set_xticks(np.arange(9) + 2 * width)\n",
      "pl.xlabel('Feature number')\n",
      "pl.ylabel('Number of values')\n",
      "pl.savefig('unique_vals.pdf')"
     ],
     "language": "python",
     "metadata": {},
     "outputs": [
      {
       "metadata": {},
       "output_type": "display_data",
       "png": "[encoded data removed]",
       "text": [
        "<matplotlib.figure.Figure at 0x10a36d2d0>"
       ]
      }
     ],
     "prompt_number": 168
    },
    {
     "cell_type": "heading",
     "level": 1,
     "metadata": {},
     "source": [
      "Sparse logistic regression"
     ]
    },
    {
     "cell_type": "heading",
     "level": 2,
     "metadata": {},
     "source": [
      "Prepearing"
     ]
    },
    {
     "cell_type": "code",
     "collapsed": false,
     "input": [
      "from copy import deepcopy\n",
      "\n",
      "train_df_x = deepcopy(train_df)\n",
      "del train_df_x['ACTION']\n",
      "test_df_x = deepcopy(test_df)\n",
      "del test_df_x['id']\n",
      "\n",
      "full_df_x = pd.concat([train_df_x, test_df_x])"
     ],
     "language": "python",
     "metadata": {},
     "outputs": [],
     "prompt_number": 169
    },
    {
     "cell_type": "code",
     "collapsed": false,
     "input": [
      "from scipy import sparse\n",
      "\n",
      "def sparse_dummy_encoder(data, keymap=None):\n",
      "     if keymap is None:\n",
      "          keymap = []\n",
      "          for col in data.T:\n",
      "               uniques = set(list(col))\n",
      "               keymap.append(dict((key, i) for i, key in enumerate(uniques)))\n",
      "     total_pts = data.shape[0]\n",
      "     outdat = []\n",
      "     for i, col in enumerate(data.T):\n",
      "          km = keymap[i]\n",
      "          num_labels = len(km)\n",
      "          spmat = sparse.lil_matrix((total_pts, num_labels))\n",
      "          for j, val in enumerate(col):\n",
      "               if val in km:\n",
      "                    spmat[j, km[val]] = 1\n",
      "          outdat.append(spmat)\n",
      "     outdat = sparse.hstack(outdat).tocsr()\n",
      "     return outdat, keymap"
     ],
     "language": "python",
     "metadata": {},
     "outputs": [],
     "prompt_number": 170
    },
    {
     "cell_type": "heading",
     "level": 2,
     "metadata": {},
     "source": [
      "Simple sparse classification"
     ]
    },
    {
     "cell_type": "code",
     "collapsed": false,
     "input": [
      "dummy_data, keymap = sparse_dummy_encoder(np.vstack((data_train_x, data_test_x)))\n",
      "dummy_train_x = dummy_data[:data_train_x.shape[0]]\n",
      "dummy_test_x = dummy_data[data_train_x.shape[0]:]"
     ],
     "language": "python",
     "metadata": {},
     "outputs": [],
     "prompt_number": 171
    },
    {
     "cell_type": "code",
     "collapsed": false,
     "input": [
      "from sklearn.linear_model import LogisticRegression\n",
      "c_values = np.logspace(-5, 5, 20, base=2)\n",
      "log_regr = LogisticRegression()\n",
      "log_regr_scores = []\n",
      "for c in c_values:\n",
      "    log_regr.C = c\n",
      "    score = score_model(dummy_train_x, data_train_y, log_regr, n=10)\n",
      "    mean = np.mean(score)\n",
      "    bias = 3 * sqrt(np.var(score))\n",
      "    log_regr_scores.append((mean, bias))\n",
      "    print \"C: %f Mean AUC: %f Bias: %f\" %(c, mean, bias)\n",
      "log_regr_scores = zip(*log_regr_scores)"
     ],
     "language": "python",
     "metadata": {},
     "outputs": [
      {
       "output_type": "stream",
       "stream": "stdout",
       "text": [
        "C: 0.031250 Mean AUC: 0.779107 Bias: 0.055139\n",
        "C: 0.045008 Mean AUC: 0.798076 Bias: 0.062706"
       ]
      },
      {
       "output_type": "stream",
       "stream": "stdout",
       "text": [
        "\n",
        "C: 0.064822 Mean AUC: 0.818611 Bias: 0.033523"
       ]
      },
      {
       "output_type": "stream",
       "stream": "stdout",
       "text": [
        "\n",
        "C: 0.093360 Mean AUC: 0.825103 Bias: 0.029214"
       ]
      },
      {
       "output_type": "stream",
       "stream": "stdout",
       "text": [
        "\n",
        "C: 0.134461 Mean AUC: 0.834620 Bias: 0.052712"
       ]
      },
      {
       "output_type": "stream",
       "stream": "stdout",
       "text": [
        "\n",
        "C: 0.193657 Mean AUC: 0.837822 Bias: 0.057080"
       ]
      },
      {
       "output_type": "stream",
       "stream": "stdout",
       "text": [
        "\n",
        "C: 0.278914 Mean AUC: 0.850984 Bias: 0.043474"
       ]
      },
      {
       "output_type": "stream",
       "stream": "stdout",
       "text": [
        "\n",
        "C: 0.401706 Mean AUC: 0.863239 Bias: 0.061398"
       ]
      },
      {
       "output_type": "stream",
       "stream": "stdout",
       "text": [
        "\n",
        "C: 0.578555 Mean AUC: 0.857406 Bias: 0.045224"
       ]
      },
      {
       "output_type": "stream",
       "stream": "stdout",
       "text": [
        "\n",
        "C: 0.833262 Mean AUC: 0.868465 Bias: 0.036112"
       ]
      },
      {
       "output_type": "stream",
       "stream": "stdout",
       "text": [
        "\n",
        "C: 1.200103 Mean AUC: 0.867684 Bias: 0.043222"
       ]
      },
      {
       "output_type": "stream",
       "stream": "stdout",
       "text": [
        "\n",
        "C: 1.728444 Mean AUC: 0.863453 Bias: 0.051909"
       ]
      },
      {
       "output_type": "stream",
       "stream": "stdout",
       "text": [
        "\n",
        "C: 2.489385 Mean AUC: 0.870483 Bias: 0.034769"
       ]
      },
      {
       "output_type": "stream",
       "stream": "stdout",
       "text": [
        "\n",
        "C: 3.585328 Mean AUC: 0.861204 Bias: 0.048618"
       ]
      },
      {
       "output_type": "stream",
       "stream": "stdout",
       "text": [
        "\n",
        "C: 5.163757 Mean AUC: 0.867108 Bias: 0.042406"
       ]
      },
      {
       "output_type": "stream",
       "stream": "stdout",
       "text": [
        "\n",
        "C: 7.437083 Mean AUC: 0.862618 Bias: 0.046343"
       ]
      },
      {
       "output_type": "stream",
       "stream": "stdout",
       "text": [
        "\n",
        "C: 10.711233 Mean AUC: 0.859370 Bias: 0.041427"
       ]
      },
      {
       "output_type": "stream",
       "stream": "stdout",
       "text": [
        "\n",
        "C: 15.426816 Mean AUC: 0.864275 Bias: 0.033659"
       ]
      },
      {
       "output_type": "stream",
       "stream": "stdout",
       "text": [
        "\n",
        "C: 22.218418 Mean AUC: 0.864653 Bias: 0.030563"
       ]
      },
      {
       "output_type": "stream",
       "stream": "stdout",
       "text": [
        "\n",
        "C: 32.000000 Mean AUC: 0.860776 Bias: 0.034333"
       ]
      },
      {
       "output_type": "stream",
       "stream": "stdout",
       "text": [
        "\n"
       ]
      }
     ],
     "prompt_number": 177
    },
    {
     "cell_type": "code",
     "collapsed": false,
     "input": [
      "pl.figure(figsize=(12, 3))\n",
      "pl.errorbar(c_values, log_regr_scores[0], yerr=log_regr_scores[1])\n",
      "pl.xlabel('C')\n",
      "pl.ylabel('Auc')\n",
      "pl.xscale('log')\n",
      "pl.savefig('log_regression.pdf')"
     ],
     "language": "python",
     "metadata": {},
     "outputs": [
      {
       "metadata": {},
       "output_type": "display_data",
       "png": "[encoded data removed]",
       "text": [
        "<matplotlib.figure.Figure at 0x1089b62d0>"
       ]
      }
     ],
     "prompt_number": 227
    },
    {
     "cell_type": "heading",
     "level": 2,
     "metadata": {},
     "source": [
      "Add features grouping"
     ]
    },
    {
     "cell_type": "code",
     "collapsed": false,
     "input": [
      "from itertools import combinations\n",
      "def group_data(data, degree=3, hash=hash):\n",
      "    \"\"\" \n",
      "    numpy.array -> numpy.array\n",
      "    \n",
      "    Groups all columns of data into all combinations of triples\n",
      "    \"\"\"\n",
      "    new_data = []\n",
      "    m,n = data.shape\n",
      "    for indicies in combinations(range(n), degree):\n",
      "        new_data.append([hash(tuple(v)) for v in data[:,indicies]])\n",
      "    return array(new_data).T"
     ],
     "language": "python",
     "metadata": {},
     "outputs": [],
     "prompt_number": 181
    },
    {
     "cell_type": "code",
     "collapsed": false,
     "input": [
      "dummy2_data, keymap = sparse_dummy_encoder(group_data(np.vstack((data_train_x, data_test_x)), degree=2))\n",
      "dummy2_train_x = dummy2_data[:data_train_x.shape[0]]\n",
      "dummy2_test_x = dummy2_data[data_train_x.shape[0]:]"
     ],
     "language": "python",
     "metadata": {},
     "outputs": [],
     "prompt_number": 182
    },
    {
     "cell_type": "code",
     "collapsed": false,
     "input": [
      "from sklearn.linear_model import LogisticRegression\n",
      "c_values = np.logspace(-5, 5, 20, base=2)\n",
      "log_regr2 = LogisticRegression()\n",
      "log_regr2_scores = []\n",
      "for c in c_values:\n",
      "    log_regr2.C = c\n",
      "    score = score_model(dummy2_train_x, data_train_y, log_regr2, n=10)\n",
      "    mean = np.mean(score)\n",
      "    bias = 3 * sqrt(np.var(score))\n",
      "    log_regr2_scores.append((mean, bias))\n",
      "    print \"C: %f Mean AUC: %f Bias: %f\" %(c, mean, bias)\n",
      "log_regr2_scores = zip(*log_regr2_scores)"
     ],
     "language": "python",
     "metadata": {},
     "outputs": [
      {
       "output_type": "stream",
       "stream": "stdout",
       "text": [
        "C: 0.031250 Mean AUC: 0.852820 Bias: 0.042679\n",
        "C: 0.045008 Mean AUC: 0.863506 Bias: 0.026213"
       ]
      },
      {
       "output_type": "stream",
       "stream": "stdout",
       "text": [
        "\n",
        "C: 0.064822 Mean AUC: 0.865365 Bias: 0.043382"
       ]
      },
      {
       "output_type": "stream",
       "stream": "stdout",
       "text": [
        "\n",
        "C: 0.093360 Mean AUC: 0.876497 Bias: 0.061349"
       ]
      },
      {
       "output_type": "stream",
       "stream": "stdout",
       "text": [
        "\n",
        "C: 0.134461 Mean AUC: 0.879317 Bias: 0.019225"
       ]
      },
      {
       "output_type": "stream",
       "stream": "stdout",
       "text": [
        "\n",
        "C: 0.193657 Mean AUC: 0.884349 Bias: 0.022495"
       ]
      },
      {
       "output_type": "stream",
       "stream": "stdout",
       "text": [
        "\n",
        "C: 0.278914 Mean AUC: 0.879914 Bias: 0.054901"
       ]
      },
      {
       "output_type": "stream",
       "stream": "stdout",
       "text": [
        "\n",
        "C: 0.401706 Mean AUC: 0.886488 Bias: 0.048324"
       ]
      },
      {
       "output_type": "stream",
       "stream": "stdout",
       "text": [
        "\n",
        "C: 0.578555 Mean AUC: 0.880307 Bias: 0.052001"
       ]
      },
      {
       "output_type": "stream",
       "stream": "stdout",
       "text": [
        "\n",
        "C: 0.833262 Mean AUC: 0.884490 Bias: 0.054822"
       ]
      },
      {
       "output_type": "stream",
       "stream": "stdout",
       "text": [
        "\n",
        "C: 1.200103 Mean AUC: 0.873778 Bias: 0.047432"
       ]
      },
      {
       "output_type": "stream",
       "stream": "stdout",
       "text": [
        "\n",
        "C: 1.728444 Mean AUC: 0.879419 Bias: 0.048481"
       ]
      },
      {
       "output_type": "stream",
       "stream": "stdout",
       "text": [
        "\n",
        "C: 2.489385 Mean AUC: 0.872412 Bias: 0.048638"
       ]
      },
      {
       "output_type": "stream",
       "stream": "stdout",
       "text": [
        "\n",
        "C: 3.585328 Mean AUC: 0.878006 Bias: 0.045868"
       ]
      },
      {
       "output_type": "stream",
       "stream": "stdout",
       "text": [
        "\n",
        "C: 5.163757 Mean AUC: 0.880260 Bias: 0.049187"
       ]
      },
      {
       "output_type": "stream",
       "stream": "stdout",
       "text": [
        "\n",
        "C: 7.437083 Mean AUC: 0.878428 Bias: 0.035450"
       ]
      },
      {
       "output_type": "stream",
       "stream": "stdout",
       "text": [
        "\n",
        "C: 10.711233 Mean AUC: 0.874551 Bias: 0.030670"
       ]
      },
      {
       "output_type": "stream",
       "stream": "stdout",
       "text": [
        "\n",
        "C: 15.426816 Mean AUC: 0.874143 Bias: 0.042111"
       ]
      },
      {
       "output_type": "stream",
       "stream": "stdout",
       "text": [
        "\n",
        "C: 22.218418 Mean AUC: 0.876578 Bias: 0.043643"
       ]
      },
      {
       "output_type": "stream",
       "stream": "stdout",
       "text": [
        "\n",
        "C: 32.000000 Mean AUC: 0.870546 Bias: 0.047395"
       ]
      },
      {
       "output_type": "stream",
       "stream": "stdout",
       "text": [
        "\n"
       ]
      }
     ],
     "prompt_number": 185
    },
    {
     "cell_type": "code",
     "collapsed": false,
     "input": [
      "pl.figure(figsize=(12, 3))\n",
      "pl.errorbar(c_values, log_regr2_scores[0], yerr=log_regr2_scores[1])\n",
      "pl.xlabel('C')\n",
      "pl.ylabel('Auc')\n",
      "pl.xscale('log')\n",
      "pl.savefig('log_regression_2.pdf')"
     ],
     "language": "python",
     "metadata": {},
     "outputs": [
      {
       "metadata": {},
       "output_type": "display_data",
       "png": "[encoded data removed]",
       "text": [
        "<matplotlib.figure.Figure at 0x10a21a5d0>"
       ]
      }
     ],
     "prompt_number": 229
    },
    {
     "cell_type": "heading",
     "level": 2,
     "metadata": {},
     "source": [
      "Grouping 1 and 2"
     ]
    },
    {
     "cell_type": "code",
     "collapsed": false,
     "input": [
      "def group_data_upto(data, max_degree=2, hash=hash):\n",
      "    datas = []\n",
      "    datas.append(data)\n",
      "    for degree in range(2, max_degree + 1):\n",
      "        datas.append(group_data(data, degree))\n",
      "    return np.hstack(datas)"
     ],
     "language": "python",
     "metadata": {},
     "outputs": [],
     "prompt_number": 9
    },
    {
     "cell_type": "code",
     "collapsed": false,
     "input": [
      "dummy12_data, keymap = sparse_dummy_encoder(group_data_upto(np.vstack((data_train_x, data_test_x)), 2))\n",
      "dummy12_train_x = dummy12_data[:data_train_x.shape[0]]\n",
      "dummy12_test_x = dummy12_data[data_train_x.shape[0]:]"
     ],
     "language": "python",
     "metadata": {},
     "outputs": [],
     "prompt_number": 11
    },
    {
     "cell_type": "code",
     "collapsed": false,
     "input": [
      "from sklearn.linear_model import LogisticRegression\n",
      "c_values = np.logspace(-4, 4, 15, base=2)\n",
      "log_regr = LogisticRegression()\n",
      "log_regr_scores = []\n",
      "for c in c_values:\n",
      "    log_regr.C = c\n",
      "    score = score_model(dummy12_train_x, data_train_y, log_regr, n=10)\n",
      "    log_regr_scores.append((np.mean(score), np.var(score)))\n",
      "    print \"C: %f Mean AUC: %f\" %(c, np.mean(score))\n",
      "pl.errorbar(c_values, [x[0] for x in log_regr_scores], yerr=[x[1] for x in log_regr_scores])\n",
      "pl.xlabel('c')\n",
      "pl.ylabel('auc')"
     ],
     "language": "python",
     "metadata": {},
     "outputs": [
      {
       "output_type": "stream",
       "stream": "stdout",
       "text": [
        "C: 0.062500 Mean AUC: 0.824761\n",
        "C: 0.092875 Mean AUC: 0.838170"
       ]
      },
      {
       "output_type": "stream",
       "stream": "stdout",
       "text": [
        "\n",
        "C: 0.138011 Mean AUC: 0.835421"
       ]
      },
      {
       "output_type": "stream",
       "stream": "stdout",
       "text": [
        "\n",
        "C: 0.205084 Mean AUC: 0.836487"
       ]
      },
      {
       "output_type": "stream",
       "stream": "stdout",
       "text": [
        "\n",
        "C: 0.304753 Mean AUC: 0.839681"
       ]
      },
      {
       "output_type": "stream",
       "stream": "stdout",
       "text": [
        "\n",
        "C: 0.452862 Mean AUC: 0.842162"
       ]
      },
      {
       "output_type": "stream",
       "stream": "stdout",
       "text": [
        "\n",
        "C: 0.672950 Mean AUC: 0.835817"
       ]
      },
      {
       "output_type": "stream",
       "stream": "stdout",
       "text": [
        "\n",
        "C: 1.000000 Mean AUC: 0.841312"
       ]
      },
      {
       "output_type": "stream",
       "stream": "stdout",
       "text": [
        "\n",
        "C: 1.485994 Mean AUC: 0.840219"
       ]
      },
      {
       "output_type": "stream",
       "stream": "stdout",
       "text": [
        "\n",
        "C: 2.208179 Mean AUC: 0.839141"
       ]
      },
      {
       "output_type": "stream",
       "stream": "stdout",
       "text": [
        "\n",
        "C: 3.281341 Mean AUC: 0.839210"
       ]
      },
      {
       "output_type": "stream",
       "stream": "stdout",
       "text": [
        "\n",
        "C: 4.876055 Mean AUC: 0.835407"
       ]
      },
      {
       "output_type": "stream",
       "stream": "stdout",
       "text": [
        "\n",
        "C: 7.245789 Mean AUC: 0.836805"
       ]
      },
      {
       "output_type": "stream",
       "stream": "stdout",
       "text": [
        "\n",
        "C: 10.767202 Mean AUC: 0.837948"
       ]
      },
      {
       "output_type": "stream",
       "stream": "stdout",
       "text": [
        "\n",
        "C: 16.000000 Mean AUC: 0.833513"
       ]
      },
      {
       "output_type": "stream",
       "stream": "stdout",
       "text": [
        "\n"
       ]
      },
      {
       "output_type": "pyout",
       "prompt_number": 14,
       "text": [
        "<matplotlib.text.Text at 0x15738e350>"
       ]
      },
      {
       "output_type": "display_data",
       "png": "[encoded data removed]",
       "text": [
        "<matplotlib.figure.Figure at 0x15656a6d0>"
       ]
      }
     ],
     "prompt_number": 14
    },
    {
     "cell_type": "markdown",
     "metadata": {},
     "source": [
      "Trying to use L1-penality."
     ]
    },
    {
     "cell_type": "heading",
     "level": 2,
     "metadata": {},
     "source": [
      "Feature selection"
     ]
    },
    {
     "cell_type": "code",
     "collapsed": false,
     "input": [
      "log_regr = LogisticRegression(C=0.19).fit(dummy2_train_x, data_train_y)"
     ],
     "language": "python",
     "metadata": {},
     "outputs": [],
     "prompt_number": 210
    },
    {
     "cell_type": "code",
     "collapsed": false,
     "input": [
      "pl.figure(figsize=(14, 3))\n",
      "\n",
      "pl.subplot2grid((1, 2), (0, 0))\n",
      "pl.plot(sorted(log_regr.coef_[0]))\n",
      "pl.xlabel('Features')\n",
      "pl.ylabel('Coefficients')\n",
      "\n",
      "pl.subplot2grid((1, 2), (0, 1))\n",
      "pl.plot(np.cumsum(sorted(log_regr.coef_[0])))\n",
      "pl.xlabel('Features')\n",
      "pl.ylabel('Cumulated coefficients')\n",
      "\n",
      "pl.savefig('coefs.pdf')"
     ],
     "language": "python",
     "metadata": {},
     "outputs": [
      {
       "metadata": {},
       "output_type": "display_data",
       "png": "[encoded data removed]",
       "text": [
        "<matplotlib.figure.Figure at 0x109e8de10>"
       ]
      }
     ],
     "prompt_number": 211
    },
    {
     "cell_type": "markdown",
     "metadata": {},
     "source": [
      "\u041f\u043e\u0434\u0430\u0432\u043b\u044f\u044e\u0449\u0435\u0435 \u0431\u043e\u043b\u044c\u0448\u0438\u043d\u0441\u0442\u0432\u043e \u043a\u043e\u044d\u0444\u0444\u0438\u0446\u0438\u0435\u043d\u0442\u043e\u0432 \u043f\u0440\u0430\u043a\u0442\u0438\u0447\u0435\u0441\u043a\u0438 \u043d\u0443\u043b\u0435\u0432\u044b\u0435, \u0442.\u0435. \u043f\u0440\u0438\u0437\u043d\u0430\u043a\u0438 \u043d\u0435 \u043f\u043e\u0447\u0442\u0438 \u0443\u0447\u0438\u0442\u044b\u0432\u0430\u044e\u0442\u0441\u044f. \u0410 \u0434\u0430\u0432\u0430\u0439\u0442\u0435 \u043f\u0440\u043e\u0432\u0435\u0434\u0435\u043c \u043e\u0442\u0431\u043e\u0440 \u043f\u0440\u0438\u0437\u043d\u0430\u043a\u043e\u0432! \u0414\u043b\u044f \u044d\u0442\u043e\u0433\u043e \u043f\u043e\u0434\u0445\u043e\u0434\u0438\u0442 L1-\u0440\u0435\u0433\u0443\u043b\u044f\u0440\u0438\u0437\u0430\u0446\u0438\u044f."
     ]
    },
    {
     "cell_type": "code",
     "collapsed": false,
     "input": [
      "from sklearn.linear_model import LogisticRegression\n",
      "c_values = np.logspace(-5, 5, 20, base=2)\n",
      "log_regr2_1l = LogisticRegression(penalty='l1')\n",
      "log_regr2_l1_scores = []\n",
      "for c in c_values:\n",
      "    log_regr2_1l.C = c\n",
      "    score = score_model(dummy2_train_x, data_train_y, log_regr2_1l, n=10)\n",
      "    mean = np.mean(score)\n",
      "    bias = 3 * sqrt(np.var(score))\n",
      "    log_regr2_l1_scores.append((mean, bias))\n",
      "    print \"C: %f Mean AUC: %f Bias: %f\" %(c, mean, bias)\n",
      "log_regr2_l1_scores = zip(*log_regr2_l1_scores)"
     ],
     "language": "python",
     "metadata": {},
     "outputs": [
      {
       "output_type": "stream",
       "stream": "stdout",
       "text": [
        "C: 0.031250 Mean AUC: 0.634266 Bias: 0.045019\n",
        "C: 0.045008 Mean AUC: 0.659160 Bias: 0.056091"
       ]
      },
      {
       "output_type": "stream",
       "stream": "stdout",
       "text": [
        "\n",
        "C: 0.064822 Mean AUC: 0.688107 Bias: 0.049669"
       ]
      },
      {
       "output_type": "stream",
       "stream": "stdout",
       "text": [
        "\n",
        "C: 0.093360 Mean AUC: 0.722003 Bias: 0.035141"
       ]
      },
      {
       "output_type": "stream",
       "stream": "stdout",
       "text": [
        "\n",
        "C: 0.134461 Mean AUC: 0.769695 Bias: 0.061454"
       ]
      },
      {
       "output_type": "stream",
       "stream": "stdout",
       "text": [
        "\n",
        "C: 0.193657 Mean AUC: 0.783214 Bias: 0.038523"
       ]
      },
      {
       "output_type": "stream",
       "stream": "stdout",
       "text": [
        "\n",
        "C: 0.278914 Mean AUC: 0.812273 Bias: 0.043640"
       ]
      },
      {
       "output_type": "stream",
       "stream": "stdout",
       "text": [
        "\n",
        "C: 0.401706 Mean AUC: 0.836090 Bias: 0.055256"
       ]
      },
      {
       "output_type": "stream",
       "stream": "stdout",
       "text": [
        "\n",
        "C: 0.578555 Mean AUC: 0.851535 Bias: 0.058136"
       ]
      },
      {
       "output_type": "stream",
       "stream": "stdout",
       "text": [
        "\n",
        "C: 0.833262 Mean AUC: 0.860223 Bias: 0.053859"
       ]
      },
      {
       "output_type": "stream",
       "stream": "stdout",
       "text": [
        "\n",
        "C: 1.200103 Mean AUC: 0.855809 Bias: 0.033289"
       ]
      },
      {
       "output_type": "stream",
       "stream": "stdout",
       "text": [
        "\n",
        "C: 1.728444 Mean AUC: 0.873322 Bias: 0.037551"
       ]
      },
      {
       "output_type": "stream",
       "stream": "stdout",
       "text": [
        "\n",
        "C: 2.489385 Mean AUC: 0.863343 Bias: 0.030953"
       ]
      },
      {
       "output_type": "stream",
       "stream": "stdout",
       "text": [
        "\n",
        "C: 3.585328 Mean AUC: 0.865555 Bias: 0.043847"
       ]
      },
      {
       "output_type": "stream",
       "stream": "stdout",
       "text": [
        "\n",
        "C: 5.163757 Mean AUC: 0.865281 Bias: 0.040041"
       ]
      },
      {
       "output_type": "stream",
       "stream": "stdout",
       "text": [
        "\n",
        "C: 7.437083 Mean AUC: 0.865844 Bias: 0.032818"
       ]
      },
      {
       "output_type": "stream",
       "stream": "stdout",
       "text": [
        "\n",
        "C: 10.711233 Mean AUC: 0.858124 Bias: 0.043035"
       ]
      },
      {
       "output_type": "stream",
       "stream": "stdout",
       "text": [
        "\n",
        "C: 15.426816 Mean AUC: 0.858156 Bias: 0.046319"
       ]
      },
      {
       "output_type": "stream",
       "stream": "stdout",
       "text": [
        "\n",
        "C: 22.218418 Mean AUC: 0.860911 Bias: 0.029189"
       ]
      },
      {
       "output_type": "stream",
       "stream": "stdout",
       "text": [
        "\n",
        "C: 32.000000 Mean AUC: 0.861534 Bias: 0.038896"
       ]
      },
      {
       "output_type": "stream",
       "stream": "stdout",
       "text": [
        "\n"
       ]
      }
     ],
     "prompt_number": 213
    },
    {
     "cell_type": "code",
     "collapsed": false,
     "input": [
      "pl.figure(figsize=(12, 3))\n",
      "pl.errorbar(c_values, log_regr2_l1_scores[0], yerr=log_regr2_l1_scores[1])\n",
      "pl.xlabel('C')\n",
      "pl.ylabel('Auc')\n",
      "pl.xscale('log')\n",
      "pl.savefig('log_regression_2_l1.pdf')"
     ],
     "language": "python",
     "metadata": {},
     "outputs": [
      {
       "metadata": {},
       "output_type": "display_data",
       "png": "[encoded data removed]",
       "text": [
        "<matplotlib.figure.Figure at 0x10a8c1650>"
       ]
      }
     ],
     "prompt_number": 230
    },
    {
     "cell_type": "heading",
     "level": 1,
     "metadata": {},
     "source": [
      "Averaging permuted methods"
     ]
    },
    {
     "cell_type": "heading",
     "level": 2,
     "metadata": {},
     "source": [
      "Prepearing"
     ]
    },
    {
     "cell_type": "code",
     "collapsed": false,
     "input": [
      "from copy import deepcopy\n",
      "\n",
      "def get_features_permutation(data):\n",
      "    result = []\n",
      "    \n",
      "    for i in range(data.shape[1]):\n",
      "        vals = list(set(data[:, i]))\n",
      "        perm = np.random.permutation(len(vals))\n",
      "        d = dict(zip(vals, perm))\n",
      "        result.append(d)\n",
      "        #result[:, i] = np.vectorize(lambda x: d[x])(result[:, i])\n",
      "    return result\n",
      "\n",
      "def apply_features_permutation(data, perm):\n",
      "    result = deepcopy(data)\n",
      "    for i in range(result.shape[1]):\n",
      "        result[:, i] = np.vectorize(lambda x: perm[i][x])(result[:, i])\n",
      "    return result"
     ],
     "language": "python",
     "metadata": {},
     "outputs": [
      {
       "output_type": "stream",
       "stream": "stdout",
       "text": [
        "\n"
       ]
      }
     ],
     "prompt_number": 337
    },
    {
     "cell_type": "code",
     "collapsed": false,
     "input": [
      "class PermutationModel:\n",
      "    def __init__(self, base_model, permutations, n_base=10):\n",
      "        self.base_model = base_model\n",
      "        self.n_base = n_base\n",
      "        self.permutations = permutations\n",
      "    \n",
      "    def fit(self, x, y, verbose=False):\n",
      "        if verbose:\n",
      "            print \"Learning\"\n",
      "        self.predictors = []\n",
      "        for i in range(self.n_base):\n",
      "            if verbose:\n",
      "                print i,\n",
      "            x_perm = apply_features_permutation(x, self.permutations[i])\n",
      "            self.predictors.append(deepcopy(self.base_model).fit(x_perm, y))\n",
      "        if verbose:\n",
      "            print ''\n",
      "    \n",
      "    def predict_proba(self, x, n_base=None):\n",
      "        if n_base == None:\n",
      "            n_base = self.n_base\n",
      "        predictions = np.zeros((x.shape[0], self.n_base))\n",
      "        for i in range(n_base):\n",
      "            x_perm = apply_features_permutation(x, self.permutations[i])\n",
      "            prediction = self.predictors[i].predict_proba(x_perm)[:, 1]\n",
      "            predictions[:, i] = prediction\n",
      "        return np.mean(predictions, axis=1)\n",
      "    \n",
      "    def get_oob_predictions(self, x, verbose=False):\n",
      "        if verbose:\n",
      "            print \"OOB predicting\"\n",
      "        predictions = np.zeros((x.shape[0], self.n_base))\n",
      "        for i in range(self.n_base):\n",
      "            x_perm = apply_features_permutation(x, self.permutations[i])\n",
      "            prediction = self.predictors[i].predict_proba(x_perm)[:, 1]\n",
      "            predictions[:, i] = prediction\n",
      "        #return np.mean(predictions, axis=1)\n",
      "        \n",
      "        result_predictions = []\n",
      "\n",
      "        for i in range(self.n_base):\n",
      "            result_predictions.append(np.mean(predictions[:, :i + 1], axis=1))\n",
      "  \n",
      "        return result_predictions                    "
     ],
     "language": "python",
     "metadata": {},
     "outputs": [],
     "prompt_number": 338
    },
    {
     "cell_type": "code",
     "collapsed": false,
     "input": [
      "def score_perm_model(x, y, base_model, cv_num=10, n_base=100):\n",
      "    cv_scores = []\n",
      "    for i in range(cv_num):\n",
      "        print 'Respliting data number', i\n",
      "        permutations = []\n",
      "        #print \"Permuting\"\n",
      "        for i in range(n_base):\n",
      "            #print i,\n",
      "            permutations.append(get_features_permutation(data_train_x))\n",
      "            \n",
      "        X_train, X_cv, y_train, y_cv = cross_validation.train_test_split(x, y, test_size=0.1)\n",
      "            \n",
      "        clf = PermutationModel(base_model, n_base=n_base, permutations=permutations)\n",
      "        clf.fit(X_train, y_train, verbose=False)\n",
      "        #pl.plot(clf.predict_proba(X_cv))\n",
      "        predictions = clf.get_oob_predictions(X_cv, verbose=False)\n",
      "        \n",
      "        scores = []\n",
      "        for i in range(n_base):\n",
      "            #print predictions[i]\n",
      "            fpr, tpr, _ = metrics.roc_curve(y_cv, predictions[i])\n",
      "            auc = metrics.auc(fpr, tpr)\n",
      "            scores.append(auc)\n",
      "        \n",
      "        cv_scores.append(scores)\n",
      "    return cv_scores"
     ],
     "language": "python",
     "metadata": {},
     "outputs": [],
     "prompt_number": 347
    },
    {
     "cell_type": "code",
     "collapsed": false,
     "input": [
      "def plot_perm_scores(cv_scores, filename):\n",
      "    pl.figure(figsize=(14, 3))\n",
      "    \n",
      "    pl.subplot2grid((1, 2), (0, 0))\n",
      "    for score in cv_scores:\n",
      "        pl.plot(score)\n",
      "    pl.xlabel('Number of base learners')\n",
      "    pl.ylabel('Quality')\n",
      "    \n",
      "    pl.subplot2grid((1, 2), (0, 1))\n",
      "    mean = np.mean(np.array(cv_scores), axis=0)\n",
      "    bias = 3 * np.sqrt(np.var(np.array(cv_scores), axis=0))\n",
      "    pl.plot(mean)\n",
      "    pl.fill_between(np.arange(len(mean)),\n",
      "                    mean + bias,\n",
      "                    mean - bias,\n",
      "                    alpha=0.3,\n",
      "                    facecolor='b'\n",
      "                    )\n",
      "    pl.xlabel('Number of base learners')\n",
      "    pl.ylabel('Average quality')\n",
      "    pl.savefig(filename + '.pdf')\n",
      "    \n",
      "    print 'Mean', mean[-1]\n",
      "    print 'Bias', bias[-1]"
     ],
     "language": "python",
     "metadata": {},
     "outputs": [],
     "prompt_number": 367
    },
    {
     "cell_type": "heading",
     "level": 2,
     "metadata": {},
     "source": [
      "Permuted 1NN"
     ]
    },
    {
     "cell_type": "markdown",
     "metadata": {},
     "source": [
      "\u041f\u043e\u0434\u0433\u043e\u0442\u043e\u0432\u0438\u0442\u0435\u043b\u044c\u043d\u044b\u0435 \u0444\u0443\u043d\u043a\u0446\u0438\u0438 \u043d\u0430\u043f\u0438\u0441\u0430\u043d\u044b. \u0425\u043e\u0440\u043e\u0448\u043e \u0434\u043e\u043b\u0436\u043d\u044b \u0437\u0430\u0440\u0430\u0431\u043e\u0442\u0430\u0442\u044c \u0443\u0441\u0442\u043e\u0439\u0447\u0438\u0432\u044b\u0435 \u043e\u0442\u043d\u043e\u0441\u0438\u0442\u0435\u043b\u044c\u043d\u043e \u0434\u0430\u043d\u043d\u044b\u0445 \u0438 \u0441\u0438\u043b\u044c\u043d\u043e \u043f\u0435\u0440\u0435\u043e\u0431\u0443\u0447\u0430\u044e\u0449\u0438\u0435\u0441\u044f \u043c\u0435\u0442\u043e\u0434\u044b. \u041d\u0430\u043f\u0440\u0438\u043c\u0435\u0440, \u043c\u0435\u0442\u043e\u0434 \u043e\u0434\u043d\u043e\u0433\u043e \u0431\u043b\u0438\u0436\u0430\u0439\u0448\u0435\u0433\u043e \u0441\u043e\u0441\u0435\u0434\u0430. "
     ]
    },
    {
     "cell_type": "code",
     "collapsed": false,
     "input": [
      "from sklearn.svm import SVC\n",
      "perm_svm_scores = score_perm_model(data_train_x, data_train_y, KNeighborsClassifier(n_neighbors=1), cv_num=10, n_base=100)"
     ],
     "language": "python",
     "metadata": {},
     "outputs": [
      {
       "output_type": "stream",
       "stream": "stdout",
       "text": [
        "Respliting data number 0\n"
       ]
      },
      {
       "output_type": "stream",
       "stream": "stdout",
       "text": [
        "\n",
        "Respliting data number"
       ]
      },
      {
       "output_type": "stream",
       "stream": "stdout",
       "text": [
        " 1\n"
       ]
      },
      {
       "output_type": "stream",
       "stream": "stdout",
       "text": [
        "\n",
        "Respliting data number"
       ]
      },
      {
       "output_type": "stream",
       "stream": "stdout",
       "text": [
        " 2\n"
       ]
      },
      {
       "output_type": "stream",
       "stream": "stdout",
       "text": [
        "\n",
        "Respliting data number"
       ]
      },
      {
       "output_type": "stream",
       "stream": "stdout",
       "text": [
        " 3\n"
       ]
      },
      {
       "output_type": "stream",
       "stream": "stdout",
       "text": [
        "\n",
        "Respliting data number"
       ]
      },
      {
       "output_type": "stream",
       "stream": "stdout",
       "text": [
        " 4\n"
       ]
      },
      {
       "output_type": "stream",
       "stream": "stdout",
       "text": [
        "\n",
        "Respliting data number"
       ]
      },
      {
       "output_type": "stream",
       "stream": "stdout",
       "text": [
        " 5\n"
       ]
      },
      {
       "output_type": "stream",
       "stream": "stdout",
       "text": [
        "\n",
        "Respliting data number"
       ]
      },
      {
       "output_type": "stream",
       "stream": "stdout",
       "text": [
        " 6\n"
       ]
      },
      {
       "output_type": "stream",
       "stream": "stdout",
       "text": [
        "\n",
        "Respliting data number"
       ]
      },
      {
       "output_type": "stream",
       "stream": "stdout",
       "text": [
        " 7\n"
       ]
      },
      {
       "output_type": "stream",
       "stream": "stdout",
       "text": [
        "\n",
        "Respliting data number"
       ]
      },
      {
       "output_type": "stream",
       "stream": "stdout",
       "text": [
        " 8\n"
       ]
      },
      {
       "output_type": "stream",
       "stream": "stdout",
       "text": [
        "\n",
        "Respliting data number"
       ]
      },
      {
       "output_type": "stream",
       "stream": "stdout",
       "text": [
        " 9\n"
       ]
      },
      {
       "output_type": "stream",
       "stream": "stdout",
       "text": [
        "\n"
       ]
      }
     ],
     "prompt_number": 349
    },
    {
     "cell_type": "code",
     "collapsed": false,
     "input": [
      "plot_perm_scores(perm_svm_scores, filename='perm_1nn')"
     ],
     "language": "python",
     "metadata": {},
     "outputs": [
      {
       "output_type": "stream",
       "stream": "stdout",
       "text": [
        "Mean 0.853247377323\n",
        "Bias 0.0573587564292\n"
       ]
      },
      {
       "metadata": {},
       "output_type": "display_data",
       "png": "[encoded data removed]",
       "text": [
        "<matplotlib.figure.Figure at 0x10a938810>"
       ]
      }
     ],
     "prompt_number": 368
    },
    {
     "cell_type": "heading",
     "level": 2,
     "metadata": {},
     "source": [
      "Permuted Extremely Randomized Trees"
     ]
    },
    {
     "cell_type": "markdown",
     "metadata": {},
     "source": [
      "\u0410 \u0442\u0435\u043f\u0435\u0440\u044c \u043f\u043e\u044d\u043a\u0441\u043f\u0435\u0440\u0438\u043c\u0435\u043d\u0442\u0438\u0440\u0443\u0435\u043c \u0441 \u0440\u0435\u0448\u0430\u044e\u0449\u0438\u043c\u0438 \u0434\u0435\u0440\u0435\u0432\u044c\u044f\u043c\u0438 (extremely randomized trees)."
     ]
    },
    {
     "cell_type": "code",
     "collapsed": false,
     "input": [
      "cv_scores = score_perm_model(data_train_x, data_train_y, ExtraTreesClassifier(n_estimators=1))"
     ],
     "language": "python",
     "metadata": {},
     "outputs": []
    },
    {
     "cell_type": "code",
     "collapsed": false,
     "input": [
      "plot_perm_scores(cv_scores, filename='rrf')"
     ],
     "language": "python",
     "metadata": {},
     "outputs": [
      {
       "output_type": "stream",
       "stream": "stdout",
       "text": [
        "0.865344011925\n",
        "0.0560657484886\n"
       ]
      },
      {
       "metadata": {},
       "output_type": "display_data",
       "png": "[encoded data removed]",
       "text": [
        "<matplotlib.figure.Figure at 0x108c7b8d0>"
       ]
      }
     ],
     "prompt_number": 306
    },
    {
     "cell_type": "heading",
     "level": 1,
     "metadata": {},
     "source": [
      "Bayes rule"
     ]
    },
    {
     "cell_type": "code",
     "collapsed": false,
     "input": [
      "# done but lost"
     ],
     "language": "python",
     "metadata": {},
     "outputs": []
    },
    {
     "cell_type": "heading",
     "level": 1,
     "metadata": {},
     "source": [
      "KNN"
     ]
    },
    {
     "cell_type": "code",
     "collapsed": false,
     "input": [],
     "language": "python",
     "metadata": {},
     "outputs": []
    },
    {
     "cell_type": "code",
     "collapsed": false,
     "input": [],
     "language": "python",
     "metadata": {},
     "outputs": []
    },
    {
     "cell_type": "heading",
     "level": 1,
     "metadata": {},
     "source": [
      "Sparse SVD"
     ]
    },
    {
     "cell_type": "markdown",
     "metadata": {},
     "source": [
      "sparse SVD for python:\n",
      "https://pypi.python.org/pypi/sparsesvd"
     ]
    },
    {
     "cell_type": "heading",
     "level": 1,
     "metadata": {},
     "source": [
      "SVD + RF"
     ]
    },
    {
     "cell_type": "code",
     "collapsed": false,
     "input": [
      "def build_pair_features_matrix(feat1, feat2):\n",
      "    pass\n",
      "\n",
      "def transform_features_pair(feat1, feat2):\n",
      "    pass    "
     ],
     "language": "python",
     "metadata": {},
     "outputs": []
    }
   ],
   "metadata": {}
  }
 ]
}